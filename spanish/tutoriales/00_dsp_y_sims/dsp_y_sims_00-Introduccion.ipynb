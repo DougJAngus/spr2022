{
 "cells": [
  {
   "cell_type": "markdown",
   "metadata": {},
   "source": [
    "# Taller SPR 2023\n",
    "# Métodos para Analizar Oscilaciones Neuronales y Actividad Aperiódica"
   ]
  },
  {
   "cell_type": "markdown",
   "metadata": {},
   "source": [
    "La primera parte de este taller (Digital Signal Processing y Simulaciones) consiste en 2 secciones separadas en Jupyter Notebooks. El primer Notebook (el presente) demuestra como el espectro de potencia cambia dependiendo de la temporalidad de la señal simulada. En el segundo Notebook se explora los básicos de la aplicación de filtros, y cómo un filtro puede alterar tus resultados, de tal manera que puedas ser consciente de ello durante tus propios análisis. Aquí te dejamos una lista del contenido que puedes encontrar en este Notebook:\n",
    "\n",
    "- Espectro de Potencia\n",
    "    - Función Delta\n",
    "    - Ruido blanco (White noise)\n",
    "- Oscilaciones Sinusoidales\n",
    "    - Una oscilación\n",
    "    - Varias oscilaciones\n",
    "    - Oscilaciones múltiples\n",
    "- Oscilaciones progresivas: Bursting\n",
    "- Oscilaciones no-senoidales\n",
    "- Oscilaciones integradas en la actividad aperiódica"
   ]
  },
  {
   "cell_type": "markdown",
   "metadata": {},
   "source": [
    "## Lección 1: Digital Signal Processing y Simulaciones\n",
    "\n",
    "En este Notebook cubriremos las bases de algunas funciones para simular tus propios datos usando la biblioteca NeuroDSP (https://neurodsp-tools.github.io/neurodsp/index.html)"
   ]
  },
  {
   "cell_type": "markdown",
   "metadata": {},
   "source": [
    "### Configuración"
   ]
  },
  {
   "cell_type": "code",
   "execution_count": 8,
   "metadata": {},
   "outputs": [
    {
     "name": "stdout",
     "output_type": "stream",
     "text": [
      "Requirement already satisfied: neurodsp in c:\\users\\andre\\anaconda3\\envs\\voytek_lab\\lib\\site-packages (2.1.0)\n",
      "Requirement already satisfied: matplotlib in c:\\users\\andre\\anaconda3\\envs\\voytek_lab\\lib\\site-packages (from neurodsp) (3.5.2)\n",
      "Requirement already satisfied: scipy in c:\\users\\andre\\anaconda3\\envs\\voytek_lab\\lib\\site-packages (from neurodsp) (1.7.3)\n",
      "Requirement already satisfied: numpy in c:\\users\\andre\\anaconda3\\envs\\voytek_lab\\lib\\site-packages (from neurodsp) (1.21.5)\n",
      "Requirement already satisfied: kiwisolver>=1.0.1 in c:\\users\\andre\\anaconda3\\envs\\voytek_lab\\lib\\site-packages (from matplotlib->neurodsp) (1.4.2)\n",
      "Requirement already satisfied: pillow>=6.2.0 in c:\\users\\andre\\anaconda3\\envs\\voytek_lab\\lib\\site-packages (from matplotlib->neurodsp) (9.2.0)\n",
      "Requirement already satisfied: pyparsing>=2.2.1 in c:\\users\\andre\\anaconda3\\envs\\voytek_lab\\lib\\site-packages (from matplotlib->neurodsp) (3.0.9)\n",
      "Requirement already satisfied: cycler>=0.10 in c:\\users\\andre\\anaconda3\\envs\\voytek_lab\\lib\\site-packages (from matplotlib->neurodsp) (0.11.0)\n",
      "Requirement already satisfied: fonttools>=4.22.0 in c:\\users\\andre\\anaconda3\\envs\\voytek_lab\\lib\\site-packages (from matplotlib->neurodsp) (4.25.0)\n",
      "Requirement already satisfied: python-dateutil>=2.7 in c:\\users\\andre\\anaconda3\\envs\\voytek_lab\\lib\\site-packages (from matplotlib->neurodsp) (2.8.2)\n",
      "Requirement already satisfied: packaging>=20.0 in c:\\users\\andre\\anaconda3\\envs\\voytek_lab\\lib\\site-packages (from matplotlib->neurodsp) (21.3)\n",
      "Requirement already satisfied: six>=1.5 in c:\\users\\andre\\anaconda3\\envs\\voytek_lab\\lib\\site-packages (from python-dateutil>=2.7->matplotlib->neurodsp) (1.16.0)\n"
     ]
    }
   ],
   "source": [
    "# Instalar los paquetes necesarios (para Colab)\n",
    "!pip install neurodsp"
   ]
  },
  {
   "cell_type": "markdown",
   "metadata": {},
   "source": [
    "#### Dependencias"
   ]
  },
  {
   "cell_type": "code",
   "execution_count": 9,
   "metadata": {},
   "outputs": [],
   "source": [
    "# general \n",
    "import numpy as np\n",
    "import matplotlib as mpl\n",
    "import matplotlib.pyplot as plt\n",
    "from scipy import signal\n",
    "\n",
    "# Voytek Lab tools\n",
    "from neurodsp import spectral\n",
    "from neurodsp import filt\n",
    "from neurodsp import sim\n",
    "from neurodsp import utils"
   ]
  },
  {
   "cell_type": "markdown",
   "metadata": {},
   "source": [
    "#### Ajustes"
   ]
  },
  {
   "cell_type": "code",
   "execution_count": 10,
   "metadata": {},
   "outputs": [],
   "source": [
    "# parámetros de la señal\n",
    "N_SECONDS = 100 # duración de la señal\n",
    "FS = 1000 # frecuencia de muestreo (sampling frequency)"
   ]
  },
  {
   "cell_type": "code",
   "execution_count": 11,
   "metadata": {},
   "outputs": [],
   "source": [
    "# parámetros para las gráficas\n",
    "\n",
    "# tamaño de fuente\n",
    "mpl.rcParams['figure.titlesize'] = 18\n",
    "mpl.rcParams['axes.titlesize'] = 16\n",
    "mpl.rcParams['axes.labelsize'] = 14\n",
    "mpl.rcParams['xtick.labelsize'] = 12\n",
    "mpl.rcParams['ytick.labelsize'] = 12\n",
    "mpl.rcParams['legend.fontsize'] = 10\n",
    "\n",
    "# color\n",
    "mpl.rcParams['figure.facecolor'] = 'w'\n",
    "mpl.rcParams['axes.facecolor'] = 'w'"
   ]
  },
  {
   "cell_type": "markdown",
   "metadata": {},
   "source": [
    "#### Funciones"
   ]
  },
  {
   "cell_type": "code",
   "execution_count": 12,
   "metadata": {},
   "outputs": [],
   "source": [
    "def plot_signal_and_power(time, signal, freq, spectrum, title='', logscale=False, xlims=None):\n",
    "    '''\n",
    "    Visualización de series de tiempo y su espectro de potencia correspondiente\n",
    "    \n",
    "    Parametros\n",
    "    ----------\n",
    "    time : 1D array, float\n",
    "        vector de tiempo de la señal\n",
    "    signal : 1D array, float\n",
    "        serie de tiempo, ej. potenciales de campo locales (LFP) o electroencefalogramas (EEG)\n",
    "    freq : 1D array, float\n",
    "        vector de frecuencia para el espectro de potencia\n",
    "    spectrum : 1D array, float\n",
    "        espectro de potencia de la señal\n",
    "    title : str, optional\n",
    "        título para la figura. El título predeterminado es ''.\n",
    "    logscale : bool, optional\n",
    "        si se debe trazar el espectro como funci[on logarítmica. El valor predeterminado es False.\n",
    "    xlims : 1D array (len=2), optional\n",
    "        límites del eje x para la gráfica de serie de tiempo ([limite_inferior, limite_superior]).\n",
    "        El rango predeterminado es None.\n",
    "\n",
    "    '''\n",
    "    # crear la figura\n",
    "    fig, (ax1,ax2) = plt.subplots(1,2, figsize=[12,4], gridspec_kw={'width_ratios': [3, 1]}, constrained_layout=True)\n",
    "    fig.suptitle(title)\n",
    "\n",
    "    # trazar la señal\n",
    "    ax1.set(xlabel='tiempo (s)', ylabel='voltaje (au)', title='Serie de tiempo')\n",
    "    ax1.plot(time, signal)\n",
    "    if xlims:\n",
    "        ax1.set_xlim(xlims)\n",
    "        \n",
    "    # trazar el espectrograma\n",
    "    ax2.set(xlabel='frecuencia (Hz)', ylabel='potencia (au)', title='Espectro de Potencia (Power Spectral Density)')\n",
    "    ax2.plot(freq, spectrum);\n",
    "    ax2.set_xlim([.1,200])\n",
    "    if logscale:\n",
    "        ax2.set(xscale='log', yscale='log')\n"
   ]
  },
  {
   "cell_type": "markdown",
   "metadata": {},
   "source": [
    "### Espectro de Potencia para Señales Simples:\n",
    "Primero simularemos una función Dirac delta y ruido blanco."
   ]
  },
  {
   "cell_type": "markdown",
   "metadata": {},
   "source": [
    "#### Función Dirac delta"
   ]
  },
  {
   "cell_type": "code",
   "execution_count": 13,
   "metadata": {},
   "outputs": [
    {
     "ename": "AttributeError",
     "evalue": "module 'neurodsp.utils.data' has no attribute 'compute_nsamples'",
     "output_type": "error",
     "traceback": [
      "\u001b[1;31m---------------------------------------------------------------------------\u001b[0m",
      "\u001b[1;31mAttributeError\u001b[0m                            Traceback (most recent call last)",
      "Input \u001b[1;32mIn [13]\u001b[0m, in \u001b[0;36m<cell line: 2>\u001b[1;34m()\u001b[0m\n\u001b[0;32m      1\u001b[0m \u001b[38;5;66;03m# simular la función dirac delta\u001b[39;00m\n\u001b[1;32m----> 2\u001b[0m dirac \u001b[38;5;241m=\u001b[39m np\u001b[38;5;241m.\u001b[39mzeros(\u001b[43mutils\u001b[49m\u001b[38;5;241;43m.\u001b[39;49m\u001b[43mdata\u001b[49m\u001b[38;5;241;43m.\u001b[39;49m\u001b[43mcompute_nsamples\u001b[49m(N_SECONDS, FS)) \u001b[38;5;66;03m# crear un array de ceros\u001b[39;00m\n\u001b[0;32m      3\u001b[0m dirac[\u001b[38;5;28mint\u001b[39m(\u001b[38;5;28mlen\u001b[39m(dirac)\u001b[38;5;241m/\u001b[39m\u001b[38;5;241m2\u001b[39m)] \u001b[38;5;241m=\u001b[39m \u001b[38;5;241m1\u001b[39m \u001b[38;5;66;03m# ajustar el valor central a 1\u001b[39;00m\n\u001b[0;32m      4\u001b[0m time \u001b[38;5;241m=\u001b[39m utils\u001b[38;5;241m.\u001b[39mcreate_times(N_SECONDS, FS, start_val\u001b[38;5;241m=\u001b[39m\u001b[38;5;241m-\u001b[39mN_SECONDS\u001b[38;5;241m/\u001b[39m\u001b[38;5;241m2\u001b[39m)\n",
      "\u001b[1;31mAttributeError\u001b[0m: module 'neurodsp.utils.data' has no attribute 'compute_nsamples'"
     ]
    }
   ],
   "source": [
    "# simular la función dirac delta\n",
    "dirac = np.zeros(utils.data.compute_nsamples(N_SECONDS, FS)) # crear un array de ceros\n",
    "dirac[int(len(dirac)/2)] = 1 # ajustar el valor central a 1\n",
    "time = utils.create_times(N_SECONDS, FS, start_val=-N_SECONDS/2)\n",
    "\n",
    "# calcular el espectro de potencia\n",
    "freq, psd_dirac = spectral.compute_spectrum(dirac, FS)\n",
    "\n",
    "# graficar\n",
    "plot_signal_and_power(time, dirac, freq, psd_dirac, title='Dirac Delta Function')"
   ]
  },
  {
   "cell_type": "markdown",
   "metadata": {},
   "source": [
    "Podemos ver que esta sencilla función está asociada con una potencia distinta a cero en todas las frecuencias."
   ]
  },
  {
   "cell_type": "code",
   "execution_count": null,
   "metadata": {},
   "outputs": [],
   "source": []
  }
 ],
 "metadata": {
  "kernelspec": {
   "display_name": "voytek_lab",
   "language": "python",
   "name": "python3"
  },
  "language_info": {
   "codemirror_mode": {
    "name": "ipython",
    "version": 3
   },
   "file_extension": ".py",
   "mimetype": "text/x-python",
   "name": "python",
   "nbconvert_exporter": "python",
   "pygments_lexer": "ipython3",
   "version": "3.10.4"
  }
 },
 "nbformat": 4,
 "nbformat_minor": 2
}
