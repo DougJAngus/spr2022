{
 "cells": [
  {
   "cell_type": "markdown",
   "metadata": {},
   "source": [
    "# Taller SPR 2023\n",
    "# Métodos para Analizar Oscilaciones Neuronales y Actividad Aperiódica"
   ]
  },
  {
   "cell_type": "markdown",
   "metadata": {},
   "source": [
    "La primera parte de este taller (Digital Signal Processing y Simulaciones) consiste en 2 secciones separadas en Jupyter Notebooks. El primer Notebook (el presente) demuestra como el espectro de potencia cambia dependiendo de la temporalidad de la señal simulada. En el segundo Notebook se explora los básicos de la aplicación de filtros, y cómo un filtro puede alterar tus resultados, de tal manera que puedas ser consciente de ello durante tus propios análisis. Aquí te dejamos una lista del contenido que puedes encontrar en este Notebook:\n",
    "\n",
    "- Espectro de Potencia\n",
    "    - Función Delta\n",
    "    - Ruido blanco (White noise)\n",
    "- Oscilaciones Sinusoidales\n",
    "    - Una oscilación\n",
    "    - Varias oscilaciones\n",
    "    - Oscilaciones múltiples\n",
    "- Oscilaciones no estacionarias: Bursting\n",
    "- Oscilaciones no-senoidales\n",
    "- Oscilaciones integradas en la actividad aperiódica"
   ]
  },
  {
   "cell_type": "markdown",
   "metadata": {},
   "source": [
    "## Lección 1: Digital Signal Processing y Simulaciones\n",
    "\n",
    "En este Notebook cubriremos las bases de algunas funciones para simular tus propios datos usando la biblioteca NeuroDSP (https://neurodsp-tools.github.io/neurodsp/index.html)"
   ]
  },
  {
   "cell_type": "markdown",
   "metadata": {},
   "source": [
    "### Configuración"
   ]
  },
  {
   "cell_type": "code",
   "execution_count": 8,
   "metadata": {},
   "outputs": [
    {
     "name": "stdout",
     "output_type": "stream",
     "text": [
      "Requirement already satisfied: neurodsp in c:\\users\\andre\\anaconda3\\envs\\voytek_lab\\lib\\site-packages (2.1.0)\n",
      "Requirement already satisfied: matplotlib in c:\\users\\andre\\anaconda3\\envs\\voytek_lab\\lib\\site-packages (from neurodsp) (3.5.2)\n",
      "Requirement already satisfied: scipy in c:\\users\\andre\\anaconda3\\envs\\voytek_lab\\lib\\site-packages (from neurodsp) (1.7.3)\n",
      "Requirement already satisfied: numpy in c:\\users\\andre\\anaconda3\\envs\\voytek_lab\\lib\\site-packages (from neurodsp) (1.21.5)\n",
      "Requirement already satisfied: kiwisolver>=1.0.1 in c:\\users\\andre\\anaconda3\\envs\\voytek_lab\\lib\\site-packages (from matplotlib->neurodsp) (1.4.2)\n",
      "Requirement already satisfied: pillow>=6.2.0 in c:\\users\\andre\\anaconda3\\envs\\voytek_lab\\lib\\site-packages (from matplotlib->neurodsp) (9.2.0)\n",
      "Requirement already satisfied: pyparsing>=2.2.1 in c:\\users\\andre\\anaconda3\\envs\\voytek_lab\\lib\\site-packages (from matplotlib->neurodsp) (3.0.9)\n",
      "Requirement already satisfied: cycler>=0.10 in c:\\users\\andre\\anaconda3\\envs\\voytek_lab\\lib\\site-packages (from matplotlib->neurodsp) (0.11.0)\n",
      "Requirement already satisfied: fonttools>=4.22.0 in c:\\users\\andre\\anaconda3\\envs\\voytek_lab\\lib\\site-packages (from matplotlib->neurodsp) (4.25.0)\n",
      "Requirement already satisfied: python-dateutil>=2.7 in c:\\users\\andre\\anaconda3\\envs\\voytek_lab\\lib\\site-packages (from matplotlib->neurodsp) (2.8.2)\n",
      "Requirement already satisfied: packaging>=20.0 in c:\\users\\andre\\anaconda3\\envs\\voytek_lab\\lib\\site-packages (from matplotlib->neurodsp) (21.3)\n",
      "Requirement already satisfied: six>=1.5 in c:\\users\\andre\\anaconda3\\envs\\voytek_lab\\lib\\site-packages (from python-dateutil>=2.7->matplotlib->neurodsp) (1.16.0)\n"
     ]
    }
   ],
   "source": [
    "# Instalar los paquetes necesarios (para Colab)\n",
    "!pip install neurodsp"
   ]
  },
  {
   "cell_type": "markdown",
   "metadata": {},
   "source": [
    "#### Dependencias"
   ]
  },
  {
   "cell_type": "code",
   "execution_count": 3,
   "metadata": {},
   "outputs": [],
   "source": [
    "# general \n",
    "import numpy as np\n",
    "import matplotlib as mpl\n",
    "import matplotlib.pyplot as plt\n",
    "from scipy import signal\n",
    "\n",
    "# Voytek Lab tools\n",
    "from neurodsp import spectral\n",
    "from neurodsp import filt\n",
    "from neurodsp import sim\n",
    "from neurodsp import utils"
   ]
  },
  {
   "cell_type": "markdown",
   "metadata": {},
   "source": [
    "#### Ajustes"
   ]
  },
  {
   "cell_type": "code",
   "execution_count": 4,
   "metadata": {},
   "outputs": [],
   "source": [
    "# parámetros de la señal\n",
    "N_SECONDS = 100 # duración de la señal\n",
    "FS = 1000 # frecuencia de muestreo (sampling frequency)"
   ]
  },
  {
   "cell_type": "code",
   "execution_count": 5,
   "metadata": {},
   "outputs": [],
   "source": [
    "# parámetros para las gráficas\n",
    "\n",
    "# tamaño de fuente\n",
    "mpl.rcParams['figure.titlesize'] = 18\n",
    "mpl.rcParams['axes.titlesize'] = 16\n",
    "mpl.rcParams['axes.labelsize'] = 14\n",
    "mpl.rcParams['xtick.labelsize'] = 12\n",
    "mpl.rcParams['ytick.labelsize'] = 12\n",
    "mpl.rcParams['legend.fontsize'] = 10\n",
    "\n",
    "# color\n",
    "mpl.rcParams['figure.facecolor'] = 'w'\n",
    "mpl.rcParams['axes.facecolor'] = 'w'"
   ]
  },
  {
   "cell_type": "markdown",
   "metadata": {},
   "source": [
    "#### Funciones"
   ]
  },
  {
   "cell_type": "code",
   "execution_count": 6,
   "metadata": {},
   "outputs": [],
   "source": [
    "def plot_signal_and_power(time, signal, freq, spectrum, title='', logscale=False, xlims=None):\n",
    "    '''\n",
    "    Visualización de series de tiempo y su espectro de potencia correspondiente\n",
    "    \n",
    "    Parametros\n",
    "    ----------\n",
    "    time : 1D array, float\n",
    "        vector de tiempo de la señal\n",
    "    signal : 1D array, float\n",
    "        serie de tiempo, ej. potenciales de campo locales (LFP) o electroencefalogramas (EEG)\n",
    "    freq : 1D array, float\n",
    "        vector de frecuencia para el espectro de potencia\n",
    "    spectrum : 1D array, float\n",
    "        espectro de potencia de la señal\n",
    "    title : str, optional\n",
    "        título para la figura. El título predeterminado es ''.\n",
    "    logscale : bool, optional\n",
    "        si se debe trazar el espectro como funci[on logarítmica. El valor predeterminado es False.\n",
    "    xlims : 1D array (len=2), optional\n",
    "        límites del eje x para la gráfica de serie de tiempo ([limite_inferior, limite_superior]).\n",
    "        El rango predeterminado es None.\n",
    "\n",
    "    '''\n",
    "    # crear la figura\n",
    "    fig, (ax1,ax2) = plt.subplots(1,2, figsize=[12,4], gridspec_kw={'width_ratios': [3, 1]}, constrained_layout=True)\n",
    "    fig.suptitle(title)\n",
    "\n",
    "    # trazar la señal\n",
    "    ax1.set(xlabel='tiempo (s)', ylabel='voltaje (au)', title='Serie de tiempo')\n",
    "    ax1.plot(time, signal)\n",
    "    if xlims:\n",
    "        ax1.set_xlim(xlims)\n",
    "        \n",
    "    # trazar el espectrograma\n",
    "    ax2.set(xlabel='frecuencia (Hz)', ylabel='potencia (au)', title='Espectro de Potencia (Power Spectral Density)')\n",
    "    ax2.plot(freq, spectrum);\n",
    "    ax2.set_xlim([.1,200])\n",
    "    if logscale:\n",
    "        ax2.set(xscale='log', yscale='log')\n"
   ]
  },
  {
   "cell_type": "markdown",
   "metadata": {},
   "source": [
    "### Espectro de Potencia para Señales Simples:\n",
    "Primero simularemos una función Dirac delta y ruido blanco."
   ]
  },
  {
   "cell_type": "markdown",
   "metadata": {},
   "source": [
    "#### Función Dirac delta"
   ]
  },
  {
   "cell_type": "code",
   "execution_count": 7,
   "metadata": {},
   "outputs": [
    {
     "ename": "AttributeError",
     "evalue": "module 'neurodsp.utils.data' has no attribute 'compute_nsamples'",
     "output_type": "error",
     "traceback": [
      "\u001b[1;31m---------------------------------------------------------------------------\u001b[0m",
      "\u001b[1;31mAttributeError\u001b[0m                            Traceback (most recent call last)",
      "Input \u001b[1;32mIn [7]\u001b[0m, in \u001b[0;36m<cell line: 2>\u001b[1;34m()\u001b[0m\n\u001b[0;32m      1\u001b[0m \u001b[38;5;66;03m# simular la función dirac delta\u001b[39;00m\n\u001b[1;32m----> 2\u001b[0m dirac \u001b[38;5;241m=\u001b[39m np\u001b[38;5;241m.\u001b[39mzeros(\u001b[43mutils\u001b[49m\u001b[38;5;241;43m.\u001b[39;49m\u001b[43mdata\u001b[49m\u001b[38;5;241;43m.\u001b[39;49m\u001b[43mcompute_nsamples\u001b[49m(N_SECONDS, FS)) \u001b[38;5;66;03m# crear un array de ceros\u001b[39;00m\n\u001b[0;32m      3\u001b[0m dirac[\u001b[38;5;28mint\u001b[39m(\u001b[38;5;28mlen\u001b[39m(dirac)\u001b[38;5;241m/\u001b[39m\u001b[38;5;241m2\u001b[39m)] \u001b[38;5;241m=\u001b[39m \u001b[38;5;241m1\u001b[39m \u001b[38;5;66;03m# ajustar el valor central a 1\u001b[39;00m\n\u001b[0;32m      4\u001b[0m time \u001b[38;5;241m=\u001b[39m utils\u001b[38;5;241m.\u001b[39mcreate_times(N_SECONDS, FS, start_val\u001b[38;5;241m=\u001b[39m\u001b[38;5;241m-\u001b[39mN_SECONDS\u001b[38;5;241m/\u001b[39m\u001b[38;5;241m2\u001b[39m)\n",
      "\u001b[1;31mAttributeError\u001b[0m: module 'neurodsp.utils.data' has no attribute 'compute_nsamples'"
     ]
    }
   ],
   "source": [
    "# simular la función dirac delta\n",
    "dirac = np.zeros(utils.data.compute_nsamples(N_SECONDS, FS)) # crear un array de ceros\n",
    "dirac[int(len(dirac)/2)] = 1 # ajustar el valor central a 1\n",
    "time = utils.create_times(N_SECONDS, FS, start_val=-N_SECONDS/2)\n",
    "\n",
    "# calcular el espectro de potencia\n",
    "freq, psd_dirac = spectral.compute_spectrum(dirac, FS)\n",
    "\n",
    "# graficar\n",
    "plot_signal_and_power(time, dirac, freq, psd_dirac, title='Función Dirac Delta')"
   ]
  },
  {
   "cell_type": "markdown",
   "metadata": {},
   "source": [
    "Podemos ver que esta sencilla función está asociada con una potencia distinta a cero en todas las frecuencias."
   ]
  },
  {
   "cell_type": "markdown",
   "metadata": {},
   "source": [
    "#### Señales de Ruido Blanco (White Noise)"
   ]
  },
  {
   "cell_type": "code",
   "execution_count": 8,
   "metadata": {},
   "outputs": [
    {
     "name": "stdout",
     "output_type": "stream",
     "text": [
      "\u001b[1;31mType:\u001b[0m        module\n",
      "\u001b[1;31mString form:\u001b[0m <module 'neurodsp.utils.data' from 'c:\\\\Users\\\\Andre\\\\anaconda3\\\\envs\\\\voytek_f1\\\\lib\\\\site-packages\\\\neurodsp\\\\utils\\\\data.py'>\n",
      "\u001b[1;31mFile:\u001b[0m        c:\\users\\andre\\anaconda3\\envs\\voytek_f1\\lib\\site-packages\\neurodsp\\utils\\data.py\n",
      "\u001b[1;31mDocstring:\u001b[0m   Data related utility functions.\n"
     ]
    }
   ],
   "source": [
    "# simular una señal de ruido blanco\n",
    "signal_white = np.random.normal(loc=0, scale=1, size=utils.data.compute_nsamples(N_SECONDS, FS))\n",
    "time = utils.create_times(N_SECONDS, FS)\n",
    "\n",
    "# calcular el espectro de potencia de nuestra señal de ruido blanco\n",
    "_, psd_white = spectral.compute_spectrum(signal_white, FS)\n",
    "\n",
    "# graficar\n",
    "plot_signal_and_power(time, signal_white, freq, psd_white, title='Señales de Ruido Blanco', xlims=[0,1])"
   ]
  },
  {
   "cell_type": "markdown",
   "metadata": {},
   "source": [
    "Podemos ver que las señales de ruido blanco tienen una potencia aproximadamente igual en todas las frecuencias. Al igual que en nuestra simulación previa, cada una de las bandas de frecuencia demuestra cierto nivel de potencia a pesar de que no hay oscilaciones presentes. Estas simulaciones nos ayudan a comprender que el solo observar cierto nivel de potencia en una banda de frecuencia específica no es evidencia suficiente para demostrar oscilaciones neuronales."
   ]
  },
  {
   "cell_type": "markdown",
   "metadata": {},
   "source": [
    "### Oscilaciones Sinusoidales\n",
    "A continuación, simularemos señales sinusoidales y señales compuestas por oscilaciones múltiples."
   ]
  },
  {
   "cell_type": "markdown",
   "metadata": {},
   "source": [
    "#### simulación de una oscilación sinusoidal"
   ]
  },
  {
   "cell_type": "code",
   "execution_count": null,
   "metadata": {},
   "outputs": [],
   "source": [
    "# configuración\n",
    "freq_oscillation = 10 # frecuencia extrema de nuestra oscilación"
   ]
  },
  {
   "cell_type": "code",
   "execution_count": null,
   "metadata": {},
   "outputs": [],
   "source": [
    "# simular una oscilación sinusoidal\n",
    "signal_sin = sim.sim_oscillation(N_SECONDS, FS, freq_oscillation)\n",
    "\n",
    "# calcular el espectro de potencia\n",
    "_, psd_sin = spectral.compute_spectrum(signal_sin, FS)\n",
    "\n",
    "# graficar\n",
    "plot_signal_and_power(time, signal_sin, freq, psd_sin, title='Oscilación Sinusouidal', xlims=[0,1])"
   ]
  },
  {
   "cell_type": "markdown",
   "metadata": {},
   "source": [
    "Podemos ver que la potencia de las ondas sinusoidales está asociada con bandas de frecuencia estrechas. Este ejemplo nos demuestra un vértice en el espectro de potencia en la frecuencia de la oscilación. Intenta cambiar el valor de la variable `freq_oscillation` y observa su efecto en el espectro de potencia."
   ]
  },
  {
   "cell_type": "markdown",
   "metadata": {},
   "source": [
    "#### simulación de señales compuestas por *varias* oscilaciones sinusoidales "
   ]
  },
  {
   "cell_type": "code",
   "execution_count": null,
   "metadata": {},
   "outputs": [],
   "source": [
    "# configuración\n",
    "freq_oscillations = [10, 35, 60] # frecuencia extrema de nuestra oscilación"
   ]
  },
  {
   "cell_type": "code",
   "execution_count": null,
   "metadata": {},
   "outputs": [],
   "source": [
    "# simular la señal\n",
    "signal_sins = np.zeros_like(time)\n",
    "for i_osc in range(len(freq_oscillations)):\n",
    "    signal_sins += sim.sim_oscillation(N_SECONDS, FS, freq_oscillations[i_osc])\n",
    "\n",
    "# calcular el espectro de potencia\n",
    "_, psd_sins = spectral.compute_spectrum(signal_sins, FS)\n",
    "\n",
    "# graficar\n",
    "plot_signal_and_power(time, signal_sins, freq, psd_sins, \n",
    "    title='Señal con Varias Oscilaciones Sinusoidales', xlims=[0,1])"
   ]
  },
  {
   "cell_type": "markdown",
   "metadata": {},
   "source": [
    "####  simulación de señales compuestas por oscilaciones sinusoidales *múltiples* (10)"
   ]
  },
  {
   "cell_type": "code",
   "execution_count": null,
   "metadata": {},
   "outputs": [],
   "source": [
    "# configuración\n",
    "osc_freq = np.random.rand(10)*100 # frecuencia extrema de nuestra oscilación\n",
    "osc_amp = np.random.rand(10) # amplitud de nuestras oscilaciones"
   ]
  },
  {
   "cell_type": "code",
   "execution_count": null,
   "metadata": {},
   "outputs": [],
   "source": [
    "# simular la señal\n",
    "signal_sins2 = np.zeros_like(time)\n",
    "for i_osc in range(len(osc_freq)):\n",
    "    signal_sins2 += sim.sim_oscillation(N_SECONDS, FS, osc_freq[i_osc]) * osc_amp[i_osc]\n",
    "\n",
    "# calcular el espectro de potencia\n",
    "_, psd_sins2 = spectral.compute_spectrum(signal_sins2, FS)\n",
    "\n",
    "# graficar\n",
    "plot_signal_and_power(time, signal_sins2, freq, psd_sins2, \n",
    "    title='Señal con Múltiples Oscilaciones Sinusoidales', xlims=[0,1])\n"
   ]
  },
  {
   "cell_type": "markdown",
   "metadata": {},
   "source": [
    "A pesar de que la señal parece ser 'compleja', podemos ver que nuestra potencia todavía está concentrada en las bandas de frecuencia estrechas, determinada por la variable `osc_freq`."
   ]
  },
  {
   "cell_type": "markdown",
   "metadata": {},
   "source": [
    "### Oscilaciones no estacionarias (Bursting)"
   ]
  },
  {
   "cell_type": "markdown",
   "metadata": {},
   "source": [
    "Ahora simularemos oscilaciones no estacionarias. Las señales neuronales no son estacionarias, i.e. su contenido espectral cambia conforme el tiempo. Se ha demostrado que las oscilaciones surgen como ráfagas transitorias ('bursts'), manifestándose por décimas o centésimas de milisegundos (ver Stokes & Spaak, 2016; y Jones, 2016)."
   ]
  },
  {
   "cell_type": "code",
   "execution_count": null,
   "metadata": {},
   "outputs": [],
   "source": [
    "# configuración\n",
    "freq_oscillation = 10 # frecuencia extrema de nuestra oscilación\n",
    "cycle = 'sine' # forma de nuestra onda oscilatoria (en este ejemplo usamos 'función seno'/'sine')"
   ]
  },
  {
   "cell_type": "code",
   "execution_count": null,
   "metadata": {},
   "outputs": [],
   "source": [
    "# simular una oscilación no estacionaria\n",
    "signal_bursty =  sim.sim_bursty_oscillation(n_seconds=N_SECONDS, fs=FS, freq=freq_oscillation, cycle=cycle)\n",
    "\n",
    "# calcular el espectro de potencia\n",
    "_, psd_bursty = spectral.compute_spectrum(signal_bursty, FS)\n",
    "\n",
    "# graficar\n",
    "plot_signal_and_power(time, signal_bursty, freq, psd_bursty, title=\"Oscilación 'Bursty'\", xlims=[0,10])"
   ]
  },
  {
   "cell_type": "markdown",
   "metadata": {},
   "source": [
    "### Oscilaciones No-Senoidales\n",
    "A continuación vamos a simular oscilaciones no-senoidales. Se ha demostrado que los ritmos neuronales no son sinusoidales, frecuentemente mostrando una forma de diente de sierra y otras distorsiones de fase. Estas características en nuestras formas de onda son fisiológicamente significativas, pero requieren de un análisis más detallado el cual exploraremos más adelante en este taller. Dentro de la Sección 02 exploraremos el método cycle-by-cycle para estudiar las formas de onda de las oscilaciones neuronales. "
   ]
  },
  {
   "cell_type": "code",
   "execution_count": null,
   "metadata": {},
   "outputs": [],
   "source": [
    "# configuración\n",
    "freq_oscillation = 10 # frecuencia extrema de nuestra oscilación\n",
    "cycle = 'sawtooth' # forma de nuestra onda oscilatoria (en este ejemplo usamos 'diente de sierra'/'sawtooth')\n",
    "width = 1 # criterio de forma para la onda diente de sierra (0: elevación rápida, 0.5: simétrica, 1: caída rápida)"
   ]
  },
  {
   "cell_type": "code",
   "execution_count": null,
   "metadata": {},
   "outputs": [],
   "source": [
    "# simular la señal\n",
    "signal_saw =  sim.sim_bursty_oscillation(n_seconds=N_SECONDS, fs=FS, freq=freq_oscillation, cycle=cycle, width=width)\n",
    "\n",
    "# calcular el espectro de potencia\n",
    "_, psd_saw = spectral.compute_spectrum(signal_saw, FS)\n",
    "\n",
    "# graficar\n",
    "plot_signal_and_power(time, signal_saw, freq, psd_saw,\n",
    "    title='Bursty, Non-sinusoidal Oscillation', xlims=[0,3])"
   ]
  },
  {
   "cell_type": "markdown",
   "metadata": {},
   "source": [
    "Podemos observar que la naturaleza no-senoidal de nuestra señal produce cierta armonía dentro de nuestro espectro de potencia. A pesar de que existe un ritmo único en la frecuencia determinada por `freq_oscillation`, también podemos observar picos adicionales en los múltiplos de esta frecuencia.\n",
    "\n",
    "A continuación, trazaremos más ejemplos de ondas no-senoidales y su representación en dominios de frecuencia. Cada una de estas señales tiene la misma frecuancia y amplitud, pero diferentes formas de onda."
   ]
  },
  {
   "cell_type": "code",
   "execution_count": null,
   "metadata": {},
   "outputs": [],
   "source": [
    "# Simular 3 ejemplos de formas de onda y observar su representación en el dominio de frecuencia.\n",
    "# Cada una de estas señales tiene la misma frecuencia y amplitud, pero diferentes formas de onda.\n",
    "\n",
    "# señal de diente de sierra\n",
    "time = np.arange(0, N_SECONDS, 1/FS)\n",
    "signal_saw = signal.sawtooth(2*np.pi*freq_oscillation*time)\n",
    "freq, psd_saw = spectral.compute_spectrum(signal_saw, FS)\n",
    "plot_signal_and_power(time, signal_saw, freq, psd_saw,\n",
    "    title='Diente de sierra', xlims=[0,1])\n",
    "                      \n",
    "# señal cuadrangular\n",
    "signal_square = signal.square(2*np.pi*freq_oscillation*time)\n",
    "_, psd_square = spectral.compute_spectrum(signal_square, FS)\n",
    "plot_signal_and_power(time, signal_square, freq, psd_square,\n",
    "    title='Cuadrangular', xlims=[0,1])\n",
    "\n",
    "# señal triangular\n",
    "signal_triangle = signal.sawtooth(2*np.pi*freq_oscillation*time, width=0.5)\n",
    "_, psd_triangle = spectral.compute_spectrum(signal_triangle, FS)\n",
    "plot_signal_and_power(time, signal_triangle, freq, psd_triangle,\n",
    "    title='Triangular', xlims=[0,1])"
   ]
  },
  {
   "cell_type": "markdown",
   "metadata": {},
   "source": [
    "Estas simulaciones nos dejan ver con mejor exactitud que un pico en el espectro de potencia no es necesariamente evidencia de una osilación en esa frecuencia. Cuando la transformada de Fourier se aplica a una señal no-senoidal, la representación de esta frecuencia incluye pseudocomponentes sinusoidales, representando la señal como una sinusoide compleja. Esta representación equivocada de la señal puede resultar en interpretaciones erróneas de la fisiología y los procesos cognitivos subyacentes. Además, este efecto alude a un mayor problema: las funciones basadas en sinusoides son ubicuas en el campo de la neurosciencia. La sección 02 de este taller explorará una solución a este problema: un enfoque ciclo-por-ciclo para analizar oscilaciones no-senoidales en el dominio del tiempo."
   ]
  },
  {
   "cell_type": "markdown",
   "metadata": {},
   "source": [
    "### Oscilaciones Dentro de la Actividad Aperiódica\n",
    "Ahora, simularemos una oscilación dentro de la actividad aperiódica (o no-senoidal). Los datos neuronales (como los potenciales de campo locales, EEG, ECoG, y MEG) muestran un componente espectral invertido parecido a la función 1/f, en donde la potencia es inversamente proporcional a la frecuencia. Esto contrasta las señales de ruido blanco que simulamos anteriormente, donde la potencia es igual en todas las frecuencias. La actividad aperiódica es fisiológicamente relevante y debería de ser considerada al analizar oscilaciones."
   ]
  },
  {
   "cell_type": "code",
   "execution_count": null,
   "metadata": {},
   "outputs": [],
   "source": [
    "# configuración\n",
    "sim_components = {'sim_bursty_oscillation': {'freq' : 10},\n",
    "                  'sim_powerlaw': {'exponent' : -2}} # exponente aperiódico (pendiente espectral)"
   ]
  },
  {
   "cell_type": "code",
   "execution_count": null,
   "metadata": {},
   "outputs": [],
   "source": [
    "# simular una oscilación sinusoidal dentro de la actividad aperiódica\n",
    "signal_comb =  sim.sim_combined(n_seconds=N_SECONDS, fs=FS, components=sim_components, component_variances=[1,100])\n",
    "\n",
    "# calcular el espectro de potencia\n",
    "_, psd_comb = spectral.compute_spectrum(signal_comb, FS)\n",
    "\n",
    "# graficar\n",
    "plot_signal_and_power(time, signal_comb, freq, psd_comb,\n",
    "    title='Oscilación y Actividad Aperiódica',\n",
    "    logscale=True, xlims=[0,10])"
   ]
  },
  {
   "cell_type": "markdown",
   "metadata": {},
   "source": [
    "Aquí podemos observar que la señal aperiódica contribuye a la potencia representada en todas las frecuencias, con la potencia disminuyendo mientras al frecuencia incrementa. De manera similar a las simulaciones que realizamos anteriormente, la oscilación sinusoidal contribuye a la potencia dentro de una banda de frecuencia estrecha. Es necesario cuantificar cuidadosamente estos componentes para poder diferenciar sus respectivas contribuciones a la cognición y el comportamiento."
   ]
  },
  {
   "cell_type": "markdown",
   "metadata": {},
   "source": [
    "Conclusión\n",
    "----------\n",
    "\n",
    "Este Notebook demuestra como simular  series de tiempo neurales usando NeuroDSP. Exploramos la relación entre representaciones de dominios de frecuencia y tiempo, destacando algunas advertencias que hay que tomar en cuenta al realizar análisis basados en Fourier. Además, introducimos las diferencias entre la actividad periódica y la aperiódica, la cual exploraremos a mayor profundidad en la sección 01, Parametrización Espectral; y se introdujo el concepto de forma de onda, el cual exploraremos más a fondo en la sección 02, Bycicle."
   ]
  }
 ],
 "metadata": {
  "kernelspec": {
   "display_name": "voytek_lab",
   "language": "python",
   "name": "python3"
  },
  "language_info": {
   "codemirror_mode": {
    "name": "ipython",
    "version": 3
   },
   "file_extension": ".py",
   "mimetype": "text/x-python",
   "name": "python",
   "nbconvert_exporter": "python",
   "pygments_lexer": "ipython3",
   "version": "3.10.4"
  }
 },
 "nbformat": 4,
 "nbformat_minor": 2
}
