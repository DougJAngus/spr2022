{
 "cells": [
  {
   "cell_type": "markdown",
   "metadata": {},
   "source": [
    "# SPR 2023, Taller\n",
    "# Métodos para Analizar Oscilaciones Neuronales y Actividad Aperiódica"
   ]
  },
  {
   "cell_type": "markdown",
   "metadata": {},
   "source": [
    "La primera parte de este taller (Digital Signal Processing y Simulaciones) consiste en 2 secciones separadas en Jupyter Notebooks. El primer Notebook (el presente) \n",
    "\n",
    "The first part of the workshop (Digital Signal Processing and Simulations) will consists of 2 parts separated in 2 notebooks. The first notebook (this one) will show how power spectra change depending on the simulated time signal. The second notebook will explore the basics of filtering, and how filtering can alter your data, so you can be mindful of it during your own analyses. Below are the topics considered in this notebook:\n",
    "\n",
    "- Power Spectra\n",
    "    - Delta function\n",
    "    - White noise\n",
    "- Sinusoidal Oscillations\n",
    "    - One oscillation\n",
    "    - Several oscillations\n",
    "    - Many oscillations\n",
    "- Non-stationary oscillations: bursts\n",
    "- Non-sinusoidal oscillations\n",
    "- Oscillations embedded in aperiodic activity"
   ]
  },
  {
   "cell_type": "code",
   "execution_count": null,
   "metadata": {},
   "outputs": [],
   "source": []
  }
 ],
 "metadata": {
  "language_info": {
   "name": "python"
  }
 },
 "nbformat": 4,
 "nbformat_minor": 2
}
