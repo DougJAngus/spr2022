{
 "cells": [
  {
   "cell_type": "markdown",
   "metadata": {},
   "source": [
    "You've just gone over how the SpecParam algorithm works on a single time-signal. However, most analyses usually include multiple electrodes and multiple conditions. Therefore, in this notebook, we'll simulate some data representing multiple epochs/trials from a single electrode and a single patient. Now, we can use \"fooofgroup\" to run the model on multiple power spectra within one function/fit. This will significantly speed up your coding and analysis. "
   ]
  },
  {
   "cell_type": "markdown",
   "metadata": {},
   "source": [
    "We suggest having your data in the time-domain in a 2D structure, in which each row represents a trial, and each column a time-point. Then, the power spectra can be created using the NeuroDSP library (which you have used earlier in this workshop). This will convert the data from the time-domain into the frequency-domain. Now the power spectra will also be in a 2D structure, in which each row still represents a trial, but each column now represents a frequency. This 2D structure can be used as input for the \"fooofgroup\" model.\n",
    "\n",
    "(We suggest keeping different data structures for each condition)"
   ]
  },
  {
   "cell_type": "markdown",
   "metadata": {},
   "source": [
    "First, we need to import the necessary modules"
   ]
  },
  {
   "cell_type": "code",
   "execution_count": 1,
   "metadata": {},
   "outputs": [],
   "source": [
    "# Standard python libaries\n",
    "import numpy as np\n",
    "import matplotlib.pyplot as plt\n",
    "\n",
    "# From the NeuroDSP libaray\n",
    "from neurodsp.utils import set_random_seed\n",
    "from neurodsp.sim import sim_powerlaw, sim_random_walk, sim_oscillation, sim_combined # < -- only keep the ones we're actually using  \n",
    "from neurodsp.spectral import compute_spectrum\n",
    "from neurodsp.plts.spectral import plot_power_spectra\n",
    "from neurodsp.plts.time_series import plot_time_series\n"
   ]
  },
  {
   "cell_type": "markdown",
   "metadata": {},
   "source": [
    "In the cell below, we're creating 30 trials of data for 2 different conditions (these conditions are hypothetical, so they can be whatever you want them to be!)"
   ]
  },
  {
   "cell_type": "code",
   "execution_count": 3,
   "metadata": {},
   "outputs": [],
   "source": [
    "# For simulations, I prefer to set the seed, so that every time I re-run this notebook, they will be the same\n",
    "set_random_seed(0)\n",
    "\n"
   ]
  },
  {
   "cell_type": "code",
   "execution_count": null,
   "metadata": {},
   "outputs": [],
   "source": []
  }
 ],
 "metadata": {
  "kernelspec": {
   "display_name": "Python 3",
   "language": "python",
   "name": "python3"
  },
  "language_info": {
   "codemirror_mode": {
    "name": "ipython",
    "version": 3
   },
   "file_extension": ".py",
   "mimetype": "text/x-python",
   "name": "python",
   "nbconvert_exporter": "python",
   "pygments_lexer": "ipython3",
   "version": "3.8.5"
  }
 },
 "nbformat": 4,
 "nbformat_minor": 5
}
